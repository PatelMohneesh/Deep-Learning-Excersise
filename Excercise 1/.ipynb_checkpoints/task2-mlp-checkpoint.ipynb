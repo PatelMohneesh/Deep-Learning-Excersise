{
 "cells": [
  {
   "cell_type": "markdown",
   "metadata": {},
   "source": [
    "#Multilayer Perceptron (MLP)\n",
    "This is the second part of the assignment. You will get to know the basic fully connected neural network."
   ]
  },
  {
   "cell_type": "code",
   "execution_count": 2,
   "metadata": {},
   "outputs": [
    {
     "name": "stdout",
     "output_type": "stream",
     "text": [
      "The autoreload extension is already loaded. To reload it, use:\n",
      "  %reload_ext autoreload\n"
     ]
    }
   ],
   "source": [
    "# Import modules\n",
    "from __future__ import print_function\n",
    "import tensorflow as tf\n",
    "import numpy as np\n",
    "import time\n",
    "import os\n",
    "import matplotlib.pyplot as plt\n",
    "try:\n",
    "    import _pickle as pickle\n",
    "except ImportError:\n",
    "    import pickle as pickle\n",
    "\n",
    "from ecbm4040.cifar_utils import load_data\n",
    "\n",
    "# Plot configurations\n",
    "% matplotlib inline\n",
    "\n",
    "# Notebook auto reloads code. (Ref: http://stackoverflow.com/questions/1907993/autoreload-of-modules-in-ipython)\n",
    "% load_ext autoreload\n",
    "% autoreload 2"
   ]
  },
  {
   "cell_type": "markdown",
   "metadata": {},
   "source": [
    "## Load Data"
   ]
  },
  {
   "cell_type": "code",
   "execution_count": 3,
   "metadata": {},
   "outputs": [
    {
     "name": "stdout",
     "output_type": "stream",
     "text": [
      "(49000, 3072) (1000, 3072) (10000, 3072) (100, 3072)\n",
      "Train data shape:  (49000, 3072)\n",
      "Train labels shape:  (49000,)\n",
      "Validation data shape:  (1000, 3072)\n",
      "Validation labels shape:  (1000,)\n",
      "Test data shape:  (10000, 3072)\n",
      "Test labels shape:  (10000,)\n",
      "Development data shape: (100, 3072)\n",
      "Development data shape (100,)\n"
     ]
    }
   ],
   "source": [
    "# Load the raw CIFAR-10 data.\n",
    "X_train, y_train, X_test, y_test = load_data()\n",
    "\n",
    "# Data organizations:\n",
    "# Train data: 49000 samples from original train set: 1~49,000\n",
    "# Validation data: 1000 samples from original train set: 49,000~50,000\n",
    "# Test data: 10000 samples from original test set: 1~10,000\n",
    "# Development data (for gradient check): 100 from the train set: 1~49,000\n",
    "num_training = 49000\n",
    "num_validation = 1000\n",
    "num_dev = 100\n",
    "\n",
    "X_val = X_train[-num_validation:, :]\n",
    "y_val = y_train[-num_validation:]\n",
    "\n",
    "mask = np.random.choice(num_training, num_dev, replace=False)\n",
    "X_dev = X_train[mask]\n",
    "y_dev = y_train[mask]\n",
    "\n",
    "X_train = X_train[:num_training, :]\n",
    "y_train = y_train[:num_training]\n",
    "\n",
    "# Preprocessing: subtract the mean value across every dimension for training data\n",
    "mean_image = np.mean(X_train, axis=0)\n",
    "\n",
    "X_train = X_train.astype(np.float32) - mean_image.astype(np.float32)\n",
    "X_val = X_val.astype(np.float32) - mean_image\n",
    "X_test = X_test.astype(np.float32) - mean_image\n",
    "X_dev = X_dev.astype(np.float32) - mean_image\n",
    "\n",
    "print(X_train.shape, X_val.shape, X_test.shape, X_dev.shape)\n",
    "print('Train data shape: ', X_train.shape)\n",
    "print('Train labels shape: ', y_train.shape)\n",
    "print('Validation data shape: ', X_val.shape)\n",
    "print('Validation labels shape: ', y_val.shape)\n",
    "print('Test data shape: ', X_test.shape)\n",
    "print('Test labels shape: ', y_test.shape)\n",
    "print('Development data shape:', X_dev.shape)\n",
    "print('Development data shape', y_dev.shape)"
   ]
  },
  {
   "cell_type": "markdown",
   "metadata": {},
   "source": [
    "## Part 1: Basic layers\n",
    "\n",
    "### Create basic layer functions\n",
    "\n",
    "<span style=\"color:red\"><strong>TODO</strong></span>: Complete functions **affine_forward**, **affine_backward** in **./ecbm4040/layer_funcs.py**."
   ]
  },
  {
   "cell_type": "code",
   "execution_count": 4,
   "metadata": {},
   "outputs": [
    {
     "name": "stdout",
     "output_type": "stream",
     "text": [
      "Is out correct? True\n",
      "Is dx correct? True\n",
      "Is dw correct? True\n",
      "Is db correct? True\n"
     ]
    }
   ],
   "source": [
    "from ecbm4040.layer_funcs import affine_forward\n",
    "from ecbm4040.layer_funcs import affine_backward\n",
    "\n",
    "# generate data for checking\n",
    "x = X_dev\n",
    "w = np.random.rand(x.shape[1],100)\n",
    "b = np.random.rand(100)\n",
    "dout = np.ones((x.shape[0],100))\n",
    "\n",
    "# Affine function -- H = W*X + b\n",
    "out = affine_forward(x, w, b)\n",
    "dx, dw, db = affine_backward(dout, x, w, b)\n",
    "\n",
    "################################################\n",
    "# THE FOLLOWING CODE IS JUST FOR CHECKING.     #\n",
    "# NO NEED TO CHANGE IT.                        #\n",
    "################################################\n",
    "# check by tf.gradients()\n",
    "tf.reset_default_graph()\n",
    "x_tf = tf.Variable(x, name='x')\n",
    "w_tf = tf.Variable(w, name='w')\n",
    "b_tf = tf.Variable(b, name='b')\n",
    "out_tf = tf.matmul(x_tf,w_tf) + b_tf\n",
    "init = tf.global_variables_initializer()\n",
    "\n",
    "dx_tf = tf.gradients(out_tf, x_tf)\n",
    "dw_tf = tf.gradients(out_tf, w_tf)\n",
    "db_tf = tf.gradients(out_tf, b_tf)\n",
    "tf_output = (dx_tf[0], dw_tf[0], db_tf[0])\n",
    "with tf.Session() as sess:\n",
    "    sess.run(init)\n",
    "    out_check = sess.run(out_tf)\n",
    "    dx_check, dw_check, db_check = sess.run(tf_output)\n",
    "\n",
    "# Print validation result\n",
    "print(\"Is out correct? {}\".format(np.allclose(out, out_check)))\n",
    "print(\"Is dx correct? {}\".format(np.allclose(dx, dx_check)))\n",
    "print(\"Is dw correct? {}\".format(np.allclose(dw, dw_check)))\n",
    "print(\"Is db correct? {}\".format(np.allclose(db, db_check)))"
   ]
  },
  {
   "cell_type": "markdown",
   "metadata": {},
   "source": [
    "<span style=\"color:red\"><strong>TODO</strong></span>: Complete functions **relu_forward**, **relu_backward** in **./ecbm4040/layer_funcs.py**."
   ]
  },
  {
   "cell_type": "code",
   "execution_count": 5,
   "metadata": {},
   "outputs": [
    {
     "name": "stdout",
     "output_type": "stream",
     "text": [
      "Is out correct? True\n",
      "Is dx correct? True\n"
     ]
    }
   ],
   "source": [
    "from ecbm4040.layer_funcs import relu_forward\n",
    "from ecbm4040.layer_funcs import relu_backward\n",
    "\n",
    "# Activation layers -- Here we introduce ReLU/Leaky ReLU activation functions\n",
    "# since they are the most commonly used in computer vision problems.\n",
    "# However, you can also try to implement other activation functions like sigmoid, tanh etc. \n",
    "x = X_dev\n",
    "dout = np.ones(x.shape)\n",
    "# ReLU\n",
    "out = relu_forward(x)\n",
    "dx = relu_backward(dout, x)\n",
    "\n",
    "################################################\n",
    "# THE FOLLOWING CODE IS JUST FOR CHECKING.     #\n",
    "# NO NEED TO CHANGE IT.                        #\n",
    "################################################\n",
    "# check by tf.gradients()\n",
    "tf.reset_default_graph()\n",
    "x_tf = tf.Variable(x, name='x')\n",
    "out_tf = tf.nn.relu(x_tf)\n",
    "init = tf.global_variables_initializer()\n",
    "\n",
    "dx_tf = tf.gradients(out_tf, x_tf)[0]\n",
    "with tf.Session() as sess:\n",
    "    sess.run(init)\n",
    "    out_check = sess.run(out_tf)\n",
    "    dx_check = sess.run(dx_tf)\n",
    "\n",
    "# Print validation result\n",
    "print(\"Is out correct? {}\".format(np.allclose(out, out_check)))\n",
    "print(\"Is dx correct? {}\".format(np.allclose(dx, dx_check)))"
   ]
  },
  {
   "cell_type": "markdown",
   "metadata": {},
   "source": [
    "<span style=\"color:red\"><strong>TODO</strong></span>: Complete functions **softmax_loss** in **./ecbm4040/layer_funcs.py**"
   ]
  },
  {
   "cell_type": "code",
   "execution_count": 6,
   "metadata": {},
   "outputs": [
    {
     "name": "stdout",
     "output_type": "stream",
     "text": [
      "Is loss correct? True\n",
      "Is dx correct? True\n"
     ]
    }
   ],
   "source": [
    "from ecbm4040.layer_funcs import softmax_loss\n",
    "\n",
    "# generate some random data for testing\n",
    "x = np.random.rand(100,10)\n",
    "y = np.argmax(x, axis=1)\n",
    "\n",
    "loss, dx = softmax_loss(x, y)\n",
    "\n",
    "################################################\n",
    "# THE FOLLOWING CODE IS JUST FOR CHECKING.     #\n",
    "# NO NEED TO CHANGE IT.                        #\n",
    "################################################\n",
    "# tensorflow gradients\n",
    "tf.reset_default_graph()\n",
    "x_tf = tf.Variable(x, name='x')\n",
    "y_tf = tf.Variable(y, name='y')\n",
    "cross_entropy = tf.nn.softmax_cross_entropy_with_logits(logits= x_tf, labels=tf.one_hot(y_tf,10))\n",
    "loss_tf = tf.reduce_mean(cross_entropy)\n",
    "dx_tf = tf.gradients(loss, x)\n",
    "init = tf.global_variables_initializer()\n",
    "\n",
    "dx_tf = tf.gradients(loss_tf, x_tf)\n",
    "with tf.Session() as sess:\n",
    "    sess.run(init)\n",
    "    loss_check = sess.run(loss_tf)\n",
    "    dx_check = sess.run(dx_tf)\n",
    "\n",
    "# Print validation result\n",
    "print(\"Is loss correct? {}\".format(np.allclose(loss, loss_check)))\n",
    "print(\"Is dx correct? {}\".format(np.allclose(dx, dx_check)))"
   ]
  },
  {
   "cell_type": "markdown",
   "metadata": {},
   "source": [
    "### Create a single layer\n",
    "\n",
    "Now try to combine an affine function and a nonlinear activation function into a single fully-connected layer. Edit the code in ./ecbm4040/layer_utils.py\n",
    "\n",
    "$$\\mathbf{O} = activation(\\mathbf{W} \\times \\mathbf{X} + \\mathbf{b})$$\n",
    "\n",
    "For this assignment, you need to create two types of layers as below. You can get started with the skeleton code in ./ecbm4040/layer_utils.py. The basic class structure has been provided, and you need to fill in the \"TODO\" part(s). \n",
    "\n",
    "* DenseLayer -- Affine transform >> ReLU\n",
    "```\n",
    "Class DenseLayer:\n",
    "    Variables: weights, bias \n",
    "    Functions: \n",
    "        __init__: given (input_dim, output_dim, weight_scale)\n",
    "        feedforward: TODO\n",
    "        backforward: TODO      \n",
    "```    \n",
    "* AffineLayer -- Affine transform >> Softmax and the class structure is similar to DenseLayer"
   ]
  },
  {
   "cell_type": "markdown",
   "metadata": {},
   "source": [
    "<span style=\"color:red\"><strong>TODO</strong></span>: Complete function **DenseLayer** in **./ecbm4040/layer_utils.py**"
   ]
  },
  {
   "cell_type": "code",
   "execution_count": 7,
   "metadata": {},
   "outputs": [
    {
     "name": "stdout",
     "output_type": "stream",
     "text": [
      "Is out correct? True\n",
      "Is dx correct? True\n",
      "Is dw correct? True\n",
      "Is db correct? True\n"
     ]
    }
   ],
   "source": [
    "# First, let's make a dense layer\n",
    "from ecbm4040.layer_utils import DenseLayer\n",
    "\n",
    "# Affine + ReLU\n",
    "test_dense = DenseLayer(input_dim=3072,output_dim=100)\n",
    "w, b = test_dense.params\n",
    "\n",
    "# Data for correctness check\n",
    "x = X_dev\n",
    "dout = np.ones((x.shape[0], 100))\n",
    "\n",
    "out = test_dense.feedforward(x)\n",
    "dx = test_dense.backward(dout)\n",
    "dw, db = test_dense.gradients\n",
    "\n",
    "################################################\n",
    "# THE FOLLOWING CODE IS JUST FOR CHECKING.     #\n",
    "# NO NEED TO CHANGE IT.                        #\n",
    "################################################\n",
    "# Use tf.gradients() to check\n",
    "tf.reset_default_graph()\n",
    "x_tf = tf.Variable(x, name='x')\n",
    "w_tf = tf.Variable(w, name='w')\n",
    "b_tf = tf.Variable(b, name='b')\n",
    "out_tf = tf.nn.relu(tf.matmul(x_tf,w_tf) + b_tf)\n",
    "init = tf.global_variables_initializer()\n",
    "\n",
    "dx_tf = tf.gradients(out_tf, x_tf)\n",
    "dw_tf = tf.gradients(out_tf, w_tf)\n",
    "db_tf = tf.gradients(out_tf, b_tf)\n",
    "tf_output = (dx_tf[0], dw_tf[0], db_tf[0])\n",
    "with tf.Session() as sess:\n",
    "    sess.run(init)\n",
    "    out_check = sess.run(out_tf)\n",
    "    dx_check, dw_check, db_check = sess.run(tf_output)\n",
    "\n",
    "# Print validation result\n",
    "print(\"Is out correct? {}\".format(np.allclose(out, out_check)))\n",
    "print(\"Is dx correct? {}\".format(np.allclose(dx, dx_check)))\n",
    "print(\"Is dw correct? {}\".format(np.allclose(dw, dw_check)))\n",
    "print(\"Is db correct? {}\".format(np.allclose(db, db_check)))"
   ]
  },
  {
   "cell_type": "markdown",
   "metadata": {},
   "source": [
    "<span style=\"color:red\"><strong>TODO</strong></span>: Complete function **AffineLayer** in **./ecbm4040/layer_utils.py**"
   ]
  },
  {
   "cell_type": "code",
   "execution_count": 8,
   "metadata": {},
   "outputs": [
    {
     "name": "stdout",
     "output_type": "stream",
     "text": [
      "Is out correct? True\n",
      "Is dx correct? True\n",
      "Is dw correct? True\n",
      "Is db correct? True\n"
     ]
    }
   ],
   "source": [
    "from ecbm4040.layer_utils import AffineLayer\n",
    "\n",
    "# Affine + ReLU\n",
    "test_affine = AffineLayer(input_dim=3072,output_dim=100)\n",
    "w, b = test_affine.params\n",
    "\n",
    "# Data for correctness check\n",
    "x = X_dev\n",
    "dout = np.ones((x.shape[0], 100))\n",
    "\n",
    "out = test_affine.feedforward(x)\n",
    "dx = test_affine.backward(dout)\n",
    "dw, db = test_affine.gradients\n",
    "\n",
    "################################################\n",
    "# THE FOLLOWING CODE IS JUST FOR CHECKING.     #\n",
    "# NO NEED TO CHANGE IT.                        #\n",
    "################################################\n",
    "# Use tf.gradients() to check\n",
    "tf.reset_default_graph()\n",
    "x_tf = tf.Variable(x, name='x')\n",
    "w_tf = tf.Variable(w, name='w')\n",
    "b_tf = tf.Variable(b, name='b')\n",
    "out_tf = tf.matmul(x_tf,w_tf) + b_tf\n",
    "init = tf.global_variables_initializer()\n",
    "\n",
    "dx_tf = tf.gradients(out_tf, x_tf)\n",
    "dw_tf = tf.gradients(out_tf, w_tf)\n",
    "db_tf = tf.gradients(out_tf, b_tf)\n",
    "tf_output = (dx_tf[0], dw_tf[0], db_tf[0])\n",
    "with tf.Session() as sess:\n",
    "    sess.run(init)\n",
    "    out_check = sess.run(out_tf)\n",
    "    dx_check, dw_check, db_check = sess.run(tf_output)\n",
    "\n",
    "## Print validation result\n",
    "print(\"Is out correct? {}\".format(np.allclose(out, out_check)))\n",
    "print(\"Is dx correct? {}\".format(np.allclose(dx, dx_check)))\n",
    "print(\"Is dw correct? {}\".format(np.allclose(dw, dw_check)))\n",
    "print(\"Is db correct? {}\".format(np.allclose(db, db_check)))"
   ]
  },
  {
   "cell_type": "markdown",
   "metadata": {},
   "source": [
    "## Part 2: More Backpropogation\n",
    "\n",
    "Complete the class **TwoLayerNet** in **./ecbm4040/classifiers/twolayernet.py**. Through this experiment, you will create a two-layer neural network and learn about the backpropagation mechanism. The network structure is like **input >> DenseLayer >> AffineLayer >> softmax loss >> output**. Complete \"TODO\" part(s).\n",
    "```\n",
    "Class TwoLayerNet:   \n",
    "    Functions: \n",
    "        __init__: GIVEN\n",
    "        loss: TODO - calculate cross entropy loss and gradients wst all weights and bias.\n",
    "        step: TODO - a single update all weights and bias by SGD.\n",
    "        predict: TODO - output result(classification accuracy) based on input data\n",
    "    \n",
    "    Variables:\n",
    "        layers\n",
    "```"
   ]
  },
  {
   "cell_type": "markdown",
   "metadata": {},
   "source": [
    "<span style=\"color:red\"><strong>TODO</strong></span>: Complete class **TwoLayerNet** in **./ecbm4040/classifiers/twolayernet.py**"
   ]
  },
  {
   "cell_type": "code",
   "execution_count": 9,
   "metadata": {},
   "outputs": [
    {
     "name": "stdout",
     "output_type": "stream",
     "text": [
      "Is loss correct? True\n"
     ]
    }
   ],
   "source": [
    "from ecbm4040.classifiers.twolayernet import TwoLayerNet\n",
    "\n",
    "# Define a model\n",
    "model = TwoLayerNet(input_dim=3072, hidden_dim=200, num_classes=10, reg=1e-5)\n",
    "W1, b1 = model.layer1.params\n",
    "W2, b2 = model.layer2.params\n",
    "## Backprogation -- Finish loss function and gradients calculation in TwoLayerNet\n",
    "loss = model.loss(X_dev, y_dev)\n",
    "\n",
    "################################################\n",
    "# THE FOLLOWING CODE IS JUST FOR CHECKING.     #\n",
    "# NO NEED TO CHANGE IT.                        #\n",
    "################################################\n",
    "# Check loss by tensorflow\n",
    "x_tf = tf.placeholder(tf.float32, shape=(None, 3072))\n",
    "y_tf = tf.placeholder(tf.uint8, shape=(None,))\n",
    "\n",
    "W1_tf = tf.Variable(W1.astype('float32'))\n",
    "b1_tf = tf.Variable(b1.astype('float32'))\n",
    "W2_tf = tf.Variable(W2.astype('float32'))\n",
    "b2_tf = tf.Variable(b2.astype('float32'))\n",
    "h1_tf = tf.nn.relu(tf.matmul(x_tf, W1_tf) + b1_tf)\n",
    "h2_tf = tf.matmul(h1_tf, W2_tf) + b2_tf\n",
    "cross_entropy = tf.nn.softmax_cross_entropy_with_logits(logits= h2_tf, labels=tf.one_hot(y_tf,10))\n",
    "L2_loss = tf.nn.l2_loss(W1_tf) + tf.nn.l2_loss(W2_tf)\n",
    "loss_tf = tf.reduce_mean(cross_entropy) + 1e-5*L2_loss \n",
    "init = tf.global_variables_initializer()\n",
    "\n",
    "with tf.Session() as sess:\n",
    "    sess.run(init)\n",
    "    loss_check = sess.run(loss_tf, feed_dict={x_tf: X_dev, y_tf: y_dev})\n",
    "    \n",
    "# Print validation result\n",
    "print(\"Is loss correct? {}\".format(np.allclose(loss, loss_check)))"
   ]
  },
  {
   "cell_type": "markdown",
   "metadata": {},
   "source": [
    "### Train a two-layer network"
   ]
  },
  {
   "cell_type": "markdown",
   "metadata": {},
   "source": [
    "#### Import functions for training and testing"
   ]
  },
  {
   "cell_type": "code",
   "execution_count": 10,
   "metadata": {
    "collapsed": true
   },
   "outputs": [],
   "source": [
    "from ecbm4040.train_funcs import train, test"
   ]
  },
  {
   "cell_type": "markdown",
   "metadata": {},
   "source": [
    "#### Start training\n",
    "<span style=\"color:red\"><strong>TODO</strong></span>: Use previous layers to create a two layer neural network:\n",
    "\n",
    "**input->(affine->activation)->(affine->softmax)->output**\n",
    "\n",
    "The recommended activation function is ReLU. You can also make a comparison with other activation function to see any difference."
   ]
  },
  {
   "cell_type": "code",
   "execution_count": 11,
   "metadata": {},
   "outputs": [
    {
     "name": "stdout",
     "output_type": "stream",
     "text": [
      "number of batches for training: 98\n",
      "5000/49000 loss: 2.588457541269118\n",
      "10000/49000 loss: 2.255800412608669\n",
      "15000/49000 loss: 2.2163670437421232\n",
      "20000/49000 loss: 2.1760270036907134\n",
      "25000/49000 loss: 2.113715346355545\n",
      "30000/49000 loss: 2.070848709314026\n",
      "35000/49000 loss: 2.0194529776865893\n",
      "40000/49000 loss: 2.012835571795202\n",
      "45000/49000 loss: 1.9692929614528552\n",
      "epoch 1: valid acc = 0.284, new learning rate = 0.00095\n",
      "5000/49000 loss: 1.9048974876085298\n",
      "10000/49000 loss: 1.8682184596971552\n",
      "15000/49000 loss: 1.8727220521430765\n",
      "20000/49000 loss: 1.8485558358628962\n",
      "25000/49000 loss: 1.8204852301901133\n",
      "30000/49000 loss: 1.7940641579791547\n",
      "35000/49000 loss: 1.7876574693010878\n",
      "40000/49000 loss: 1.8286406858811894\n",
      "45000/49000 loss: 1.7872726849603795\n",
      "epoch 2: valid acc = 0.389, new learning rate = 0.0009025\n",
      "5000/49000 loss: 1.7314039632133742\n",
      "10000/49000 loss: 1.700133666584833\n",
      "15000/49000 loss: 1.7172683408749903\n",
      "20000/49000 loss: 1.711479651687473\n",
      "25000/49000 loss: 1.6999816728578523\n",
      "30000/49000 loss: 1.6992598148658573\n",
      "35000/49000 loss: 1.6868809018921527\n",
      "40000/49000 loss: 1.7443765546766317\n",
      "45000/49000 loss: 1.7108548367878955\n",
      "epoch 3: valid acc = 0.436, new learning rate = 0.000857375\n",
      "5000/49000 loss: 1.6452727263173808\n",
      "10000/49000 loss: 1.6036533742962256\n",
      "15000/49000 loss: 1.6420407943877116\n",
      "20000/49000 loss: 1.6434676547398592\n",
      "25000/49000 loss: 1.6270145556126063\n",
      "30000/49000 loss: 1.6408784817091377\n",
      "35000/49000 loss: 1.6347953266113455\n",
      "40000/49000 loss: 1.6947296370511626\n",
      "45000/49000 loss: 1.658445981236409\n",
      "epoch 4: valid acc = 0.46, new learning rate = 0.0008145062499999999\n",
      "5000/49000 loss: 1.589357573889167\n",
      "10000/49000 loss: 1.5369136075623486\n",
      "15000/49000 loss: 1.5900547862780072\n",
      "20000/49000 loss: 1.6028137977501793\n",
      "25000/49000 loss: 1.570339932428499\n",
      "30000/49000 loss: 1.5899737143275186\n",
      "35000/49000 loss: 1.5896837767877623\n",
      "40000/49000 loss: 1.6495876013506776\n",
      "45000/49000 loss: 1.6152772114896679\n",
      "epoch 5: valid acc = 0.47, new learning rate = 0.0007737809374999998\n",
      "5000/49000 loss: 1.5485379279749572\n",
      "10000/49000 loss: 1.4896266823042534\n",
      "15000/49000 loss: 1.5507339622411465\n",
      "20000/49000 loss: 1.5741503489937967\n",
      "25000/49000 loss: 1.5305978284888824\n",
      "30000/49000 loss: 1.5504014274613733\n",
      "35000/49000 loss: 1.5512077891234148\n",
      "40000/49000 loss: 1.61271667856078\n",
      "45000/49000 loss: 1.5758094949172121\n",
      "epoch 6: valid acc = 0.476, new learning rate = 0.0007350918906249997\n",
      "5000/49000 loss: 1.5132533888786281\n",
      "10000/49000 loss: 1.4542893500340963\n",
      "15000/49000 loss: 1.5214099337265663\n",
      "20000/49000 loss: 1.549216280284612\n",
      "25000/49000 loss: 1.5008014704191168\n",
      "30000/49000 loss: 1.516352210831228\n",
      "35000/49000 loss: 1.5244819031942438\n",
      "40000/49000 loss: 1.5832168697921467\n",
      "45000/49000 loss: 1.543199602304408\n",
      "epoch 7: valid acc = 0.489, new learning rate = 0.0006983372960937497\n",
      "5000/49000 loss: 1.482438749647165\n",
      "10000/49000 loss: 1.4261660219077963\n",
      "15000/49000 loss: 1.4962788092837105\n",
      "20000/49000 loss: 1.5269717214361653\n",
      "25000/49000 loss: 1.4784657781422426\n",
      "30000/49000 loss: 1.490369440536007\n",
      "35000/49000 loss: 1.5041525155162778\n",
      "40000/49000 loss: 1.557883808585501\n",
      "45000/49000 loss: 1.5189068666425671\n",
      "epoch 8: valid acc = 0.488, new learning rate = 0.0006634204312890621\n",
      "5000/49000 loss: 1.4553668780404607\n",
      "10000/49000 loss: 1.4031285837747116\n",
      "15000/49000 loss: 1.4752321026387192\n",
      "20000/49000 loss: 1.5066500241702032\n",
      "25000/49000 loss: 1.4581000947587515\n",
      "30000/49000 loss: 1.4683053920861524\n",
      "35000/49000 loss: 1.485545040649011\n",
      "40000/49000 loss: 1.5340722138315812\n",
      "45000/49000 loss: 1.4974478820089199\n",
      "epoch 9: valid acc = 0.497, new learning rate = 0.000630249409724609\n",
      "5000/49000 loss: 1.4316480277297348\n",
      "10000/49000 loss: 1.382409149064086\n",
      "15000/49000 loss: 1.4560895891663133\n",
      "20000/49000 loss: 1.488248112516588\n",
      "25000/49000 loss: 1.4403642554681153\n",
      "30000/49000 loss: 1.4493463088843015\n",
      "35000/49000 loss: 1.468230112386365\n",
      "40000/49000 loss: 1.5129918581382835\n",
      "45000/49000 loss: 1.4809681845237148\n",
      "epoch 10: valid acc = 0.5, new learning rate = 0.0005987369392383785\n",
      "test acc: 0.4871\n"
     ]
    },
    {
     "data": {
      "text/plain": [
       "0.48709999999999998"
      ]
     },
     "execution_count": 11,
     "metadata": {},
     "output_type": "execute_result"
    }
   ],
   "source": [
    "from ecbm4040.classifiers.twolayernet import TwoLayerNet\n",
    "\n",
    "model = TwoLayerNet(input_dim=3072, hidden_dim=100, num_classes=10, reg=0.25, weight_scale=1e-3)\n",
    "\n",
    "num_epoch = 10\n",
    "batch_size = 500\n",
    "lr = 1e-3\n",
    "verbose = True\n",
    "train_acc_hist, val_acc_hist = train(model, X_train, y_train, X_val, y_val, \n",
    "                  num_epoch=num_epoch, batch_size=batch_size, learning_rate=lr, verbose=verbose)\n",
    "test(model, X_test, y_test)"
   ]
  },
  {
   "cell_type": "markdown",
   "metadata": {},
   "source": [
    "<span style=\"color:red\"><strong>TODO</strong></span>: Plot training and validation accuracy history of each epoch"
   ]
  },
  {
   "cell_type": "code",
   "execution_count": 12,
   "metadata": {},
   "outputs": [
    {
     "data": {
      "image/png": "[encoded data removed]",
      "text/plain": [
       "<matplotlib.figure.Figure at 0x11d79e7b8>"
      ]
     },
     "metadata": {},
     "output_type": "display_data"
    }
   ],
   "source": [
    "# plot the accuracy history\n",
    "plt.plot(train_acc_hist, label=\"train accuracy\")\n",
    "plt.plot(val_acc_hist, label=\"validation accuracy\")\n",
    "plt.legend()\n",
    "plt.show()"
   ]
  },
  {
   "cell_type": "markdown",
   "metadata": {},
   "source": [
    "#### Visulize the weight variable in the first layer.\n",
    "\n",
    "Visualization of the intermediate weights can help you get an intuitive understanding of how the network works, especially in  Convolutional Neural Networks (CNNs)."
   ]
  },
  {
   "cell_type": "code",
   "execution_count": 13,
   "metadata": {
    "collapsed": true
   },
   "outputs": [],
   "source": [
    "from ecbm4040.display_funcs import visualize_pics"
   ]
  },
  {
   "cell_type": "code",
   "execution_count": 14,
   "metadata": {},
   "outputs": [
    {
     "name": "stdout",
     "output_type": "stream",
     "text": [
      "num of feature vectors: 100\n"
     ]
    },
    {
     "data": {
      "image/png": "[encoded data removed]",
      "text/plain": [
       "<matplotlib.figure.Figure at 0x11f440cf8>"
      ]
     },
     "metadata": {},
     "output_type": "display_data"
    }
   ],
   "source": [
    "weights = model.layer1.params[0]\n",
    "pics = weights.reshape(3, 32, 32, -1).transpose(3, 1, 2, 0)\n",
    "# visualization\n",
    "visualize_pics(pics)"
   ]
  },
  {
   "cell_type": "markdown",
   "metadata": {},
   "source": [
    "### Get test accuracy greater than 48%\n",
    "\n",
    "For this part, you need to train a better two-layer net. The requirement is to get test accuracy better than 48%. If your accuracy is lower, for each 1% lower than 48%, you will lose 1 point. On the other hand, you will get one extra point for every 1% higher than 52%.\n",
    "\n",
    "Here are some recommended methods for improving the performance. Feel free to try any other method as you see fit.\n",
    "\n",
    "1. Hyperparameter tuning: reg, hidden_dim, lr, learning_decay, num_epoch, batch_size, weight_scale.\n",
    "2. Adjust training strategy: Randomly select a batch of samples rather than selecting them orderly. \n",
    "3. Try new optimization methods: Now we are using SGD, you can try SGD with momentum, adam, etc. For example, if you change SGD into SGD with momentum, then you should get about 2% increase in accuracy.\n",
    "4. Early-stopping.\n",
    "5. Good (better) initial values for weights in the model.\n",
    "6. Try use PCA or other preprocessing methods. (Try task3-dim_reduction.ipynb before finishing this task)\n",
    "\n",
    "A comparison between SGD and SGD with momentum.\n",
    "\n",
    "* Stochastic gradient descent - SGD\n",
    "    ```\n",
    "    w = w - learning_rate * gradient \n",
    "    ```\n",
    "* SGD with momentum\n",
    "    ```\n",
    "    v = momentum*v + learning_rate * gradient\n",
    "    w = w - v\n",
    "    ```\n",
    "    \n",
    "<span style=\"color:red\"><strong>TODO</strong></span>: See below"
   ]
  },
  {
   "cell_type": "code",
   "execution_count": null,
   "metadata": {
    "collapsed": true
   },
   "outputs": [],
   "source": [
    "# TODO\n",
    "#  from ecbm4040.classifiers.twolayernet import TwoLayerNet\n",
    "\n",
    "# TODO: Use previous layers to create a two layer neural network.\n",
    "# Try several solutions and report the best performing one.\n",
    "# input->(affine->activation)->(affine->softmax)->output\n",
    "# The recommended activation function is ReLU. You can \n",
    "# make a comparison with other activation functions to see\n",
    "# the differences.\n",
    "#\n",
    "# You will need to execute code similar to below, using your parameter specs:\n",
    "#    model = TwoLayerNet(input_dim=TBD, hidden_dim=TBD, num_classes=TBD, reg=TBD, weight_scale=TBD)\n",
    "#    num_epoch = TBD\n",
    "#    batch_size = TBD\n",
    "#    lr = TBD\n",
    "#    verbose = TBD\n",
    "#    train_acc_hist, val_acc_hist = train(TBD)\n",
    "#    test(TBD, TBD, TBD)"
   ]
  },
  {
   "cell_type": "markdown",
   "metadata": {},
   "source": [
    "#### <span style=\"color:red\"><strong>TODO</strong></span>: Show your best result, including accuracy and weights of the first layer"
   ]
  },
  {
   "cell_type": "code",
   "execution_count": null,
   "metadata": {
    "collapsed": true
   },
   "outputs": [],
   "source": [
    "# TODO: plot training and validation accuracy"
   ]
  },
  {
   "cell_type": "code",
   "execution_count": null,
   "metadata": {
    "collapsed": true
   },
   "outputs": [],
   "source": [
    "# TODO: Visualize weights"
   ]
  },
  {
   "cell_type": "markdown",
   "metadata": {},
   "source": [
    "### Save your best model in a dictionary "
   ]
  },
  {
   "cell_type": "code",
   "execution_count": 15,
   "metadata": {
    "collapsed": true
   },
   "outputs": [],
   "source": [
    "# Create \"save_model\" folder if it does not exist\n",
    "save_dir = \"./save_models/\"\n",
    "if not os.path.exists(save_dir):\n",
    "    os.makedirs(save_dir)\n",
    "\n",
    "# Save your model\n",
    "save_params = model.save_model()\n",
    "with open(\"./save_models/best_model.pkl\", \"wb\") as output_file:\n",
    "    pickle.dump(save_params, output_file)"
   ]
  },
  {
   "cell_type": "code",
   "execution_count": 16,
   "metadata": {
    "collapsed": true
   },
   "outputs": [],
   "source": [
    "# Load your model\n",
    "#with open(\"./save_models/best_model.pkl\", \"rb\") as input_file:\n",
    "#    load_params = pickle.load(input_file)\n",
    "    \n",
    "#model.update_model(load_params)"
   ]
  },
  {
   "cell_type": "markdown",
   "metadata": {},
   "source": [
    "## Part 3: Multilayer Net \n",
    "\n",
    "Complete the class **MLP** in **./ecbm4040/classifiers/network.py**. It should allow arbitrary settings for the number of hidden layers as well as the number of hidden neurons in each layer. **MLP** has a similar structure as a **TwoLayerNet** network. Complete the \"<span style=\"color:red\"><strong>TODO</strong></span>\" part.\n",
    "\n",
    "```\n",
    "class MLP:\n",
    "    functions: __init__, loss, step, predict, check_accuracy\n",
    "    variables: layers\n",
    "```"
   ]
  },
  {
   "cell_type": "code",
   "execution_count": 23,
   "metadata": {},
   "outputs": [
    {
     "name": "stdout",
     "output_type": "stream",
     "text": [
      "number of batches for training: 98\n",
      "5000/49000 loss: 2.3032577078773304\n",
      "10000/49000 loss: 2.302926489920259\n",
      "15000/49000 loss: 2.302775258835828\n",
      "20000/49000 loss: 2.3019178774258267\n",
      "25000/49000 loss: 2.3002334170074827\n",
      "30000/49000 loss: 2.299050670772131\n",
      "35000/49000 loss: 2.297314584315819\n",
      "40000/49000 loss: 2.2926763046921717\n",
      "45000/49000 loss: 2.2713659384146534\n",
      "epoch 1: valid acc = 0.12, new learning rate = 0.0095\n",
      "5000/49000 loss: 2.253879351423919\n",
      "10000/49000 loss: 2.2727020774601616\n",
      "15000/49000 loss: 2.2750913355421627\n",
      "20000/49000 loss: 2.270014560947371\n",
      "25000/49000 loss: 2.266123190854495\n",
      "30000/49000 loss: 2.271110232878523\n",
      "35000/49000 loss: 2.273960259678517\n",
      "40000/49000 loss: 2.2770000303965547\n",
      "45000/49000 loss: 2.2476993678992128\n",
      "epoch 2: valid acc = 0.147, new learning rate = 0.009025\n",
      "5000/49000 loss: 2.2374838842398206\n",
      "10000/49000 loss: 2.2612190469464553\n",
      "15000/49000 loss: 2.2598413788536664\n",
      "20000/49000 loss: 2.253168908738145\n",
      "25000/49000 loss: 2.254471026055557\n",
      "30000/49000 loss: 2.255310816992899\n",
      "35000/49000 loss: 2.2607736539532013\n",
      "40000/49000 loss: 2.2654075753053085\n",
      "45000/49000 loss: 2.227847526988794\n",
      "epoch 3: valid acc = 0.158, new learning rate = 0.00857375\n",
      "5000/49000 loss: 2.21641036402835\n",
      "10000/49000 loss: 2.241545271491908\n",
      "15000/49000 loss: 2.2404212775713397\n",
      "20000/49000 loss: 2.228806533583014\n",
      "25000/49000 loss: 2.234089950733946\n",
      "30000/49000 loss: 2.226352679559632\n",
      "35000/49000 loss: 2.238586405476062\n",
      "40000/49000 loss: 2.246443873175499\n",
      "45000/49000 loss: 2.19519178826956\n",
      "epoch 4: valid acc = 0.177, new learning rate = 0.0081450625\n",
      "5000/49000 loss: 2.181905426716985\n",
      "10000/49000 loss: 2.2056183504862186\n",
      "15000/49000 loss: 2.210388965117354\n",
      "20000/49000 loss: 2.189314079332995\n",
      "25000/49000 loss: 2.193934206763509\n",
      "30000/49000 loss: 2.1704416582790347\n",
      "35000/49000 loss: 2.1955512896671188\n",
      "40000/49000 loss: 2.206591598698802\n",
      "45000/49000 loss: 2.1479726952299343\n",
      "epoch 5: valid acc = 0.185, new learning rate = 0.007737809374999999\n",
      "5000/49000 loss: 2.136144967283754\n",
      "10000/49000 loss: 2.1624168754007798\n",
      "15000/49000 loss: 2.1804501750382563\n",
      "20000/49000 loss: 2.1598365116602825\n",
      "25000/49000 loss: 2.168839842679475\n",
      "30000/49000 loss: 2.1335470875610483\n",
      "35000/49000 loss: 2.169617475854506\n",
      "40000/49000 loss: 2.1783085801504782\n",
      "45000/49000 loss: 2.129451152303386\n",
      "epoch 6: valid acc = 0.194, new learning rate = 0.007350918906249998\n",
      "5000/49000 loss: 2.1164374208385346\n",
      "10000/49000 loss: 2.1470353438264094\n",
      "15000/49000 loss: 2.170158163962876\n",
      "20000/49000 loss: 2.151197402937432\n",
      "25000/49000 loss: 2.1609462022486605\n",
      "30000/49000 loss: 2.1229544107952174\n",
      "35000/49000 loss: 2.157030961497274\n",
      "40000/49000 loss: 2.1640119278415364\n",
      "45000/49000 loss: 2.1234745832550423\n",
      "epoch 7: valid acc = 0.196, new learning rate = 0.006983372960937498\n",
      "5000/49000 loss: 2.1056584801188056\n",
      "10000/49000 loss: 2.140209057678632\n",
      "15000/49000 loss: 2.1636516798297833\n",
      "20000/49000 loss: 2.146740293437476\n",
      "25000/49000 loss: 2.154714618890939\n",
      "30000/49000 loss: 2.1173795769472243\n",
      "35000/49000 loss: 2.148425600140346\n",
      "40000/49000 loss: 2.154960040651255\n",
      "45000/49000 loss: 2.118839642851335\n",
      "epoch 8: valid acc = 0.202, new learning rate = 0.006634204312890623\n",
      "5000/49000 loss: 2.0981667949847655\n",
      "10000/49000 loss: 2.134819838033208\n",
      "15000/49000 loss: 2.157414453388511\n",
      "20000/49000 loss: 2.1419726163036006\n",
      "25000/49000 loss: 2.1484919868936645\n",
      "30000/49000 loss: 2.1122016344919854\n",
      "35000/49000 loss: 2.1413772626072887\n",
      "40000/49000 loss: 2.147594162650684\n",
      "45000/49000 loss: 2.1138560928061882\n",
      "epoch 9: valid acc = 0.204, new learning rate = 0.006302494097246091\n",
      "5000/49000 loss: 2.0915893747213774\n",
      "10000/49000 loss: 2.1296457238277178\n",
      "15000/49000 loss: 2.151289248045964\n",
      "20000/49000 loss: 2.136924914276751\n",
      "25000/49000 loss: 2.142081718253641\n",
      "30000/49000 loss: 2.107146377012576\n",
      "35000/49000 loss: 2.134897136810626\n",
      "40000/49000 loss: 2.1407632591932373\n",
      "45000/49000 loss: 2.1087140126194237\n",
      "epoch 10: valid acc = 0.204, new learning rate = 0.005987369392383786\n",
      "5000/49000 loss: 2.085302295415629\n",
      "10000/49000 loss: 2.1242166408223584\n",
      "15000/49000 loss: 2.1451419367120756\n",
      "20000/49000 loss: 2.1317311157422574\n",
      "25000/49000 loss: 2.1355053808537665\n",
      "30000/49000 loss: 2.102054558013497\n",
      "35000/49000 loss: 2.1285054015362848\n",
      "40000/49000 loss: 2.133794521286804\n",
      "45000/49000 loss: 2.1034237269055645\n",
      "epoch 11: valid acc = 0.203, new learning rate = 0.005688000922764597\n",
      "5000/49000 loss: 2.0791252122341715\n",
      "10000/49000 loss: 2.1185935833122493\n",
      "15000/49000 loss: 2.1390505508285242\n",
      "20000/49000 loss: 2.1265008577695745\n",
      "25000/49000 loss: 2.1288608532255116\n",
      "30000/49000 loss: 2.09715740586367\n",
      "35000/49000 loss: 2.1224826801181234\n",
      "40000/49000 loss: 2.1264036720625383\n",
      "45000/49000 loss: 2.098109965885981\n",
      "epoch 12: valid acc = 0.204, new learning rate = 0.005403600876626367\n",
      "5000/49000 loss: 2.073116706439345\n",
      "10000/49000 loss: 2.1128708589041114\n",
      "15000/49000 loss: 2.1331091191602995\n",
      "20000/49000 loss: 2.121293367716163\n",
      "25000/49000 loss: 2.1224793082716746\n",
      "30000/49000 loss: 2.092561529021915\n",
      "35000/49000 loss: 2.1170780111236582\n",
      "40000/49000 loss: 2.118892369395012\n",
      "45000/49000 loss: 2.0926953510444557\n",
      "epoch 13: valid acc = 0.204, new learning rate = 0.005133420832795048\n",
      "5000/49000 loss: 2.067520008118657\n",
      "10000/49000 loss: 2.107130021156072\n",
      "15000/49000 loss: 2.127180329027726\n",
      "20000/49000 loss: 2.116045345037502\n",
      "25000/49000 loss: 2.116728070522181\n",
      "30000/49000 loss: 2.088521623030246\n",
      "35000/49000 loss: 2.111852255805533\n",
      "40000/49000 loss: 2.111581297306977\n",
      "45000/49000 loss: 2.087184425928892\n",
      "epoch 14: valid acc = 0.205, new learning rate = 0.0048767497911552955\n",
      "5000/49000 loss: 2.062438806064195\n",
      "10000/49000 loss: 2.1016145051567685\n",
      "15000/49000 loss: 2.1215742928627255\n",
      "20000/49000 loss: 2.111073971202019\n",
      "25000/49000 loss: 2.111053977962277\n",
      "30000/49000 loss: 2.084950601436048\n",
      "35000/49000 loss: 2.1069591454884216\n",
      "40000/49000 loss: 2.104971754473353\n",
      "45000/49000 loss: 2.082335471339895\n",
      "epoch 15: valid acc = 0.209, new learning rate = 0.00463291230159753\n",
      "5000/49000 loss: 2.0578190913557806\n",
      "10000/49000 loss: 2.0959557958996693\n",
      "15000/49000 loss: 2.116532199077227\n",
      "20000/49000 loss: 2.1062644421847065\n",
      "25000/49000 loss: 2.1053936478103594\n",
      "30000/49000 loss: 2.0815160561647343\n",
      "35000/49000 loss: 2.1023480160558075\n",
      "40000/49000 loss: 2.099016706387037\n",
      "45000/49000 loss: 2.0777437064791107\n",
      "epoch 16: valid acc = 0.21, new learning rate = 0.0044012666865176535\n",
      "5000/49000 loss: 2.053583637211283\n",
      "10000/49000 loss: 2.0902014622169074\n",
      "15000/49000 loss: 2.111814943866728\n",
      "20000/49000 loss: 2.101499772151524\n",
      "25000/49000 loss: 2.099998501796223\n",
      "30000/49000 loss: 2.0779115739770697\n",
      "35000/49000 loss: 2.0979451052796163\n",
      "40000/49000 loss: 2.0935296883273153\n",
      "45000/49000 loss: 2.0730059588990004\n",
      "epoch 17: valid acc = 0.206, new learning rate = 0.004181203352191771\n",
      "5000/49000 loss: 2.0495091193675883\n",
      "10000/49000 loss: 2.084042464524325\n",
      "15000/49000 loss: 2.1072961053333055\n",
      "20000/49000 loss: 2.0967261092521836\n",
      "25000/49000 loss: 2.094671000178946\n",
      "30000/49000 loss: 2.0737798859825123\n",
      "35000/49000 loss: 2.093479786843636\n",
      "40000/49000 loss: 2.088214823806376\n",
      "45000/49000 loss: 2.068237814727085\n",
      "epoch 18: valid acc = 0.204, new learning rate = 0.003972143184582182\n",
      "5000/49000 loss: 2.045735246149983\n",
      "10000/49000 loss: 2.077879679449225\n",
      "15000/49000 loss: 2.1029131311957037\n",
      "20000/49000 loss: 2.09204341644152\n",
      "25000/49000 loss: 2.0890236697040976\n",
      "30000/49000 loss: 2.0690729138918322\n",
      "35000/49000 loss: 2.0885866847930914\n",
      "40000/49000 loss: 2.082862988788002\n",
      "45000/49000 loss: 2.063259627137995\n",
      "epoch 19: valid acc = 0.205, new learning rate = 0.0037735360253530726\n",
      "5000/49000 loss: 2.0422455486715907\n",
      "10000/49000 loss: 2.071403947474287\n",
      "15000/49000 loss: 2.098330162496223\n",
      "20000/49000 loss: 2.0874029892435537\n",
      "25000/49000 loss: 2.0830657342301753\n",
      "30000/49000 loss: 2.0640662986088314\n",
      "35000/49000 loss: 2.083113277051654\n",
      "40000/49000 loss: 2.0773734723932553\n",
      "45000/49000 loss: 2.0589613508915\n",
      "epoch 20: valid acc = 0.207, new learning rate = 0.0035848592240854188\n",
      "test acc: 0.1922\n"
     ]
    },
    {
     "data": {
      "text/plain": [
       "0.19220000000000001"
      ]
     },
     "execution_count": 23,
     "metadata": {},
     "output_type": "execute_result"
    }
   ],
   "source": [
    "from ecbm4040.classifiers.mlp import MLP\n",
    "\n",
    "# TODO: Use a sequence of layers to create a multiple layer neural network\n",
    "# input->(affine->activation)-> ... ->(affine->activation)->(affine->softmax)->output\n",
    "model = MLP(input_dim=3072, hidden_dims=[200, 50, 50], num_classes=10, reg=0.01, weight_scale=1e-3)\n",
    "\n",
    "num_epoch = 20\n",
    "batch_size = 500\n",
    "lr = 1e-2\n",
    "verbose = True\n",
    "train_acc_hist, val_acc_hist = train(model, X_train, y_train, X_val, y_val, \n",
    "                  num_epoch=num_epoch, batch_size=batch_size, learning_rate=lr, verbose=verbose)\n",
    "test(model, X_test, y_test)"
   ]
  },
  {
   "cell_type": "markdown",
   "metadata": {},
   "source": [
    "## Part 4: Tensorflow MLP\n",
    "In this part, you will use tensorflow modules to implement a MLP. We provide a demo of a two-layer net. You need to implement a multi-layer with 3 or 4 layers."
   ]
  },
  {
   "cell_type": "code",
   "execution_count": 18,
   "metadata": {},
   "outputs": [
    {
     "name": "stdout",
     "output_type": "stream",
     "text": [
      "epoch 1: valid acc = 0.14900000393390656\n",
      "epoch 2: valid acc = 0.30000001192092896\n",
      "epoch 3: valid acc = 0.34299999475479126\n",
      "epoch 4: valid acc = 0.37299999594688416\n",
      "epoch 5: valid acc = 0.39800000190734863\n",
      "epoch 6: valid acc = 0.40799999237060547\n",
      "epoch 7: valid acc = 0.4020000100135803\n",
      "epoch 8: valid acc = 0.3970000147819519\n",
      "epoch 9: valid acc = 0.4059999883174896\n",
      "epoch 10: valid acc = 0.40299999713897705\n",
      "test acc = 0.40299999713897705\n"
     ]
    }
   ],
   "source": [
    "# Demo: Two-layer net in tensorflow.\n",
    "hidden_dim = 100\n",
    "reg_tf = tf.constant(0.01)\n",
    "\n",
    "x_tf = tf.placeholder(tf.float32, shape=(None, 3072))\n",
    "y_tf = tf.placeholder(tf.int64, shape=(None,))\n",
    "\n",
    "W1_tf = tf.Variable(1e-2*np.random.rand(3072, hidden_dim).astype('float32'))\n",
    "b1_tf = tf.Variable(np.zeros((hidden_dim,)).astype('float32'))\n",
    "W2_tf = tf.Variable(1e-2*np.random.rand(hidden_dim, 10).astype('float32'))\n",
    "b2_tf = tf.Variable(np.zeros((10,)).astype('float32'))\n",
    "\n",
    "h1_tf = tf.nn.relu(tf.matmul(x_tf, W1_tf) + b1_tf)\n",
    "h2_tf = tf.matmul(h1_tf, W2_tf) + b2_tf\n",
    "cross_entropy = tf.nn.softmax_cross_entropy_with_logits(logits= h2_tf, labels=tf.one_hot(y_tf,10))\n",
    "L2_loss = tf.nn.l2_loss(W1_tf) + tf.nn.l2_loss(W2_tf)\n",
    "loss_tf = tf.reduce_mean(cross_entropy) + reg_tf*L2_loss \n",
    "\n",
    "init = tf.global_variables_initializer()\n",
    "train_step = tf.train.GradientDescentOptimizer(1e-3).minimize(loss_tf)\n",
    "correct_prediction = tf.equal(y_tf, tf.argmax(h2_tf,1))\n",
    "accuracy = tf.reduce_mean(tf.cast(correct_prediction, tf.float32))\n",
    "\n",
    "num_train = 49000\n",
    "batch_size = 500\n",
    "num_batch = num_train//batch_size\n",
    "with tf.Session() as sess:\n",
    "    sess.run(init)\n",
    "    for e in range(10):\n",
    "        for i in range(num_batch):\n",
    "            batch_xs, batch_ys = X_train[i*batch_size:(i+1)*batch_size], y_train[i*batch_size:(i+1)*batch_size]\n",
    "            sess.run(train_step, feed_dict={x_tf: batch_xs, y_tf: batch_ys})\n",
    "        val_acc = sess.run(accuracy, feed_dict={x_tf: X_val, y_tf: y_val})\n",
    "        print('epoch {}: valid acc = {}'.format(e+1, val_acc))\n",
    "    \n",
    "    test_acc = sess.run(accuracy, feed_dict={x_tf: X_val, y_tf: y_val})\n",
    "    print('test acc = {}'.format(test_acc))"
   ]
  },
  {
   "cell_type": "markdown",
   "metadata": {},
   "source": [
    "<span style=\"color:red\"><strong>TODO</strong></span>: Create your MLP in tensorflow. Since you are going to create a deeper neural network, it is recommended to use \"list\" or \"dictionary\" to store your network parameters, ie., weights and bias. Besides, consider to use a loop to create your MLP network."
   ]
  },
  {
   "cell_type": "code",
   "execution_count": 20,
   "metadata": {},
   "outputs": [
    {
     "name": "stdout",
     "output_type": "stream",
     "text": [
      "epoch 1: valid acc = 0.07699999958276749\n",
      "epoch 2: valid acc = 0.07900000363588333\n",
      "epoch 3: valid acc = 0.07699999958276749\n",
      "epoch 4: valid acc = 0.07800000160932541\n",
      "epoch 5: valid acc = 0.07699999958276749\n",
      "epoch 6: valid acc = 0.07800000160932541\n",
      "epoch 7: valid acc = 0.07800000160932541\n",
      "epoch 8: valid acc = 0.07699999958276749\n",
      "epoch 9: valid acc = 0.07699999958276749\n",
      "epoch 10: valid acc = 0.07800000160932541\n",
      "test acc = 0.07800000160932541\n"
     ]
    }
   ],
   "source": [
    "# For example\n",
    "#weights = {\n",
    "#    'w1': tf.Variable(),\n",
    "#    'w2': tf.Variable()),\n",
    "#    'w3': tf.Variable()),\n",
    "#    'w4': tf.Variable()),\n",
    "#    ...\n",
    "#}\n",
    "W1_tf = tf.Variable(1e-2*np.random.rand(3072, hidden_dim).astype('float32'))\n",
    "W2_tf = tf.Variable(1e-2*np.random.rand(hidden_dim, hidden_dim).astype('float32'))\n",
    "W3_tf = tf.Variable(1e-2*np.random.rand(hidden_dim, 10).astype('float32'))\n",
    "\n",
    "hidden_dim = 100\n",
    "reg_tf = tf.constant(0.01)\n",
    "x_tf = tf.placeholder(tf.float32, shape=(None, 3072))\n",
    "y_tf = tf.placeholder(tf.int64, shape=(None,))\n",
    "\n",
    "b1_tf = tf.Variable(np.zeros((hidden_dim,)).astype('float32'))\n",
    "b2_tf = tf.Variable(np.zeros((hidden_dim,)).astype('float32'))\n",
    "b3_tf = tf.Variable(np.zeros((10,)).astype('float32'))\n",
    "\n",
    "h1_tf = tf.nn.relu(tf.matmul(x_tf, W1_tf) + b1_tf)\n",
    "h2_tf = tf.nn.relu(tf.matmul(h1_tf, W2_tf) + b2_tf)\n",
    "h3_tf = tf.matmul(h2_tf, W3_tf) + b3_tf\n",
    "cross_entropy = tf.nn.softmax_cross_entropy_with_logits(logits= h3_tf, labels=tf.one_hot(y_tf,10))\n",
    "L2_loss = tf.nn.l2_loss(W1_tf) + tf.nn.l2_loss(W2_tf) + tf.nn.l2_loss(W3_tf)\n",
    "loss_tf = tf.reduce_mean(cross_entropy) + reg_tf*L2_loss\n",
    "init = tf.global_variables_initializer()\n",
    "train_step = tf.train.GradientDescentOptimizer(1e-3).minimize(loss_tf)\n",
    "correct_prediction = tf.equal(y_tf, tf.argmax(h3_tf,1))\n",
    "accuracy = tf.reduce_mean(tf.cast(correct_prediction, tf.float32))\n",
    "num_train = 49000\n",
    "batch_size = 500\n",
    "num_batch = num_train//batch_size\n",
    "with tf.Session() as sess:\n",
    "    sess.run(init)\n",
    "    for e in range(10):\n",
    "        for i in range(num_batch):\n",
    "            batch_xs, batch_ys = X_train[i*batch_size:(i+1)*batch_size], y_train[i*batch_size:(i+1)*batch_size]\n",
    "            sess.run(train_step, feed_dict={x_tf: batch_xs, y_tf: batch_ys})\n",
    "        val_acc = sess.run(accuracy, feed_dict={x_tf: X_val, y_tf: y_val})\n",
    "        print('epoch {}: valid acc = {}'.format(e+1, val_acc))    \n",
    "    test_acc = sess.run(accuracy, feed_dict={x_tf: X_val, y_tf: y_val})\n",
    "    print('test acc = {}'.format(test_acc))"
   ]
  }
 ],
 "metadata": {
  "kernelspec": {
   "display_name": "Python 3",
   "language": "python",
   "name": "python3"
  },
  "language_info": {
   "codemirror_mode": {
    "name": "ipython",
    "version": 3
   },
   "file_extension": ".py",
   "mimetype": "text/x-python",
   "name": "python",
   "nbconvert_exporter": "python",
   "pygments_lexer": "ipython3",
   "version": "3.6.1"
  }
 },
 "nbformat": 4,
 "nbformat_minor": 2
}
